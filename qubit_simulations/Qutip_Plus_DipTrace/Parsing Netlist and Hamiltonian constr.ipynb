{
 "cells": [
  {
   "cell_type": "code",
   "execution_count": 1,
   "metadata": {},
   "outputs": [],
   "source": [
    "%load_ext autoreload\n",
    "%autoreload 2"
   ]
  },
  {
   "cell_type": "code",
   "execution_count": 10,
   "metadata": {},
   "outputs": [
    {
     "data": {
      "text/plain": [
       "<module 'Qscheme' from 'D:/shamil_docs/jupyter_dir/lib\\\\Qscheme\\\\__init__.py'>"
      ]
     },
     "execution_count": 10,
     "metadata": {},
     "output_type": "execute_result"
    }
   ],
   "source": [
    "import csv\n",
    "import re\n",
    "import networkx as nx\n",
    "\n",
    "import sys\n",
    "sys.path.append( \"D:/shamil_docs/jupyter_dir/lib\" ) # include path with resonator_tools module\n",
    "import Qscheme as qs"
   ]
  },
  {
   "cell_type": "markdown",
   "metadata": {},
   "source": [
    "### for debug only"
   ]
  },
  {
   "cell_type": "code",
   "execution_count": 25,
   "metadata": {},
   "outputs": [
    {
     "data": {
      "text/plain": [
       "<module 'Qscheme' from 'D:/shamil_docs/jupyter_dir/lib\\\\Qscheme\\\\__init__.py'>"
      ]
     },
     "execution_count": 25,
     "metadata": {},
     "output_type": "execute_result"
    }
   ],
   "source": [
    "import importlib\n",
    "importlib.reload(qs)"
   ]
  },
  {
   "cell_type": "markdown",
   "metadata": {},
   "source": [
    "### parsing specific netlist format from DipTrace export\n",
    "format is called PADS"
   ]
  },
  {
   "cell_type": "code",
   "execution_count": 26,
   "metadata": {},
   "outputs": [
    {
     "name": "stdout",
     "output_type": "stream",
     "text": [
      "['J3', 'J4', 'B1', 'J2', 'C1']\n",
      "[['0', '3'], ['2', '3'], ['2', '3'], ['0', '2'], ['2', '3']]\n",
      "JosType2\n",
      "JosType2\n",
      "JosType1\n",
      "SOURCE_BATTERY1\n",
      "CAP_NONPOLARIZED\n"
     ]
    }
   ],
   "source": [
    "with open( \"PAD.net\", \"r\" ) as csv_file:\n",
    "    file_rows = list(csv.reader( csv_file, delimiter=' ' ))\n",
    "    graph = qs.build_graph_from_netlist_PAD( file_rows )\n",
    "\n",
    "for edge in graph.edges(data=\"element\"):\n",
    "    print( edge[2].group_name )"
   ]
  },
  {
   "cell_type": "markdown",
   "metadata": {},
   "source": [
    "## Constructing hamiltonian with all external forces set to zero"
   ]
  },
  {
   "cell_type": "code",
   "execution_count": 18,
   "metadata": {
    "collapsed": true
   },
   "outputs": [],
   "source": [
    "import qutip as qp"
   ]
  },
  {
   "cell_type": "code",
   "execution_count": 27,
   "metadata": {},
   "outputs": [
    {
     "data": {
      "text/plain": [
       "3"
      ]
     },
     "execution_count": 27,
     "metadata": {},
     "output_type": "execute_result"
    }
   ],
   "source": [
    " len( graph.nodes() )"
   ]
  },
  {
   "cell_type": "code",
   "execution_count": null,
   "metadata": {
    "collapsed": true
   },
   "outputs": [],
   "source": [
    "def getH_from_graph( graph, ground_node, N, ground_node ):\n",
    "    ''' \n",
    "    @description:\n",
    "        parses file and return edge types, represented by electrical elements\n",
    "    @parameters:\n",
    "        file_rows - list of lists containing csv file (e.g. list( csv.reader(file)) \n",
    "    @return: list of Element() objects used in this netlist file\n",
    "    '''\n",
    "    nodes_N = len( graph.nodes() ) - 1\n",
    "    charge_ops = ( qp.tensor( qp.identity(2*N+1) ) for i in range(nodes_N) )\n",
    "    charge_ops = qp.tensor(qp.charge(N),\n",
    "                           qp.identity(2*N+1)), \\\n",
    "                 qp.tensor(qp.identity(2*N+1),\n",
    "                           qp.charge(N))\n",
    "    \n",
    "    H_c = qp.tensor(qp.qzero(2*N+1), qp.qzero(2*N+1))\n",
    "    caps_matrix = get_inv_caps_matrix( Csh, alpha )\n",
    "    for i in range(0,islands_N):\n",
    "        for j in range(0,islands_N):\n",
    "            H_c += Ec*charge_ops[i]*caps_matrix[i,j]*charge_ops[j]\n",
    "    return H_c"
   ]
  },
  {
   "cell_type": "code",
   "execution_count": null,
   "metadata": {
    "collapsed": true
   },
   "outputs": [],
   "source": []
  }
 ],
 "metadata": {
  "kernelspec": {
   "display_name": "Python 3",
   "language": "python",
   "name": "python3"
  },
  "language_info": {
   "codemirror_mode": {
    "name": "ipython",
    "version": 3
   },
   "file_extension": ".py",
   "mimetype": "text/x-python",
   "name": "python",
   "nbconvert_exporter": "python",
   "pygments_lexer": "ipython3",
   "version": "3.6.1"
  }
 },
 "nbformat": 4,
 "nbformat_minor": 2
}
