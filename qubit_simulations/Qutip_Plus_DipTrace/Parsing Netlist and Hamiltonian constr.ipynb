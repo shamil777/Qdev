{
 "cells": [
  {
   "cell_type": "code",
   "execution_count": 1,
   "metadata": {
    "collapsed": true
   },
   "outputs": [],
   "source": [
    "%load_ext autoreload\n",
    "%autoreload 2"
   ]
  },
  {
   "cell_type": "code",
   "execution_count": 2,
   "metadata": {},
   "outputs": [],
   "source": [
    "import csv\n",
    "import re\n",
    "import networkx as nx\n",
    "\n",
    "import sys\n",
    "sys.path.append( \"C:\\\\Users\\\\user\\\\Documents\\\\GitHub\\\\Qdev\\\\lib\" ) # include path with resonator_tools module\n",
    "import Qscheme as qs"
   ]
  },
  {
   "cell_type": "markdown",
   "metadata": {},
   "source": [
    "### for debug only"
   ]
  },
  {
   "cell_type": "code",
   "execution_count": 3,
   "metadata": {},
   "outputs": [
    {
     "data": {
      "text/plain": [
       "<module 'Qscheme' from 'C:\\\\Users\\\\user\\\\Documents\\\\GitHub\\\\Qdev\\\\lib\\\\Qscheme\\\\__init__.py'>"
      ]
     },
     "execution_count": 3,
     "metadata": {},
     "output_type": "execute_result"
    }
   ],
   "source": [
    "import importlib\n",
    "importlib.reload(qs)"
   ]
  },
  {
   "cell_type": "markdown",
   "metadata": {},
   "source": [
    "### parsing specific netlist format from DipTrace export\n",
    "format is called PADS"
   ]
  },
  {
   "cell_type": "code",
   "execution_count": 11,
   "metadata": {},
   "outputs": [
    {
     "name": "stdout",
     "output_type": "stream",
     "text": [
      "['J3', 'J4', 'B1', 'J2', 'C1']\n",
      "[[2, 0], [1, 0], [1, 0], [2, 1], [1, 0]]\n",
      "JosType2\n",
      "JosType2\n",
      "JosType1\n",
      "SOURCE_BATTERY1\n",
      "C1\n",
      "[(2, 0), (2, 1), (1, 0), (1, 0), (1, 0)]\n",
      "[2, 1, 0]\n"
     ]
    }
   ],
   "source": [
    "with open( \"PAD.net\", \"r\" ) as csv_file:\n",
    "    file_rows = list(csv.reader( csv_file, delimiter=' ' ))\n",
    "    graph = qs.build_graph_from_netlist_PAD( file_rows )\n",
    "\n",
    "for edge in graph.edges(data=\"element\"):\n",
    "    print( edge[2].group_name )\n",
    "    \n",
    "print( graph.edges() )\n",
    "print( graph.nodes() )"
   ]
  },
  {
   "cell_type": "markdown",
   "metadata": {},
   "source": [
    "## Constructing hamiltonian with all external forces set to zero"
   ]
  },
  {
   "cell_type": "code",
   "execution_count": 5,
   "metadata": {
    "collapsed": true
   },
   "outputs": [],
   "source": [
    "import qutip as qp\n",
    "import sympy\n",
    "import numpy"
   ]
  },
  {
   "cell_type": "code",
   "execution_count": 6,
   "metadata": {},
   "outputs": [
    {
     "data": {
      "text/plain": [
       "3"
      ]
     },
     "execution_count": 6,
     "metadata": {},
     "output_type": "execute_result"
    }
   ],
   "source": [
    " len( graph.nodes() )"
   ]
  },
  {
   "cell_type": "code",
   "execution_count": 7,
   "metadata": {
    "collapsed": true
   },
   "outputs": [],
   "source": [
    "def get_charge_ops( N ):\n",
    "    charge_ops = []\n",
    "    for i in range(N):\n",
    "        to_tensor_list = []\n",
    "        for j in range(N):\n",
    "            if( i != j ):\n",
    "                to_tensor_list.append( qp.identity(2*N+1) )\n",
    "            else:\n",
    "                to_tensor_list.append( qp.charge(N) )\n",
    "        charge_ops.append( qp.tensor(*to_tensor_list) )\n",
    "    return tuple(charge_ops)\n",
    "    "
   ]
  },
  {
   "cell_type": "code",
   "execution_count": 17,
   "metadata": {},
   "outputs": [],
   "source": [
    "def get_Cap_matrix_from_graph( graph ):\n",
    "    ''' \n",
    "    @description:\n",
    "        \n",
    "    @parameters:\n",
    "        \n",
    "    @return:\n",
    "    '''\n",
    "    N = len(graph)-1\n",
    "    C_matrix = sympy.zeros( N,N )\n",
    "    for edge in graph.edges(data=\"element\"):\n",
    "        # to make nodei mutable type\n",
    "        node1 = edge[0]\n",
    "        node2 = edge[1] \n",
    "        \n",
    "        element = edge[2]\n",
    "        if( isinstance(element,qs.netlist.Cap)  ):\n",
    "            if( node1 != 0 and node2 != 0 ):\n",
    "                C_matrix[node1,node2] -= sympy.Symbol(element.group_name)\n",
    "                C_matrix[node2,node1] -= sympy.Symbol(element.group_name)\n",
    "            if( node1 != 0 ):\n",
    "                C_matrix[node1,node1] += sympy.Symbol(element.group_name)\n",
    "            if( node2 != 0 ):\n",
    "                C_matrix[node2,node2] += sympy.Symbol(element.group_name)\n",
    "            \n",
    "    print(C_matrix)\n",
    "        \n",
    "        "
   ]
  },
  {
   "cell_type": "code",
   "execution_count": 19,
   "metadata": {},
   "outputs": [
    {
     "name": "stdout",
     "output_type": "stream",
     "text": [
      "Matrix([[0, 0], [0, C1]])\n"
     ]
    }
   ],
   "source": [
    "get_Cap_matrix_from_graph( graph )"
   ]
  },
  {
   "cell_type": "code",
   "execution_count": null,
   "metadata": {
    "collapsed": true
   },
   "outputs": [],
   "source": []
  }
 ],
 "metadata": {
  "kernelspec": {
   "display_name": "Python 3",
   "language": "python",
   "name": "python3"
  },
  "language_info": {
   "codemirror_mode": {
    "name": "ipython",
    "version": 3
   },
   "file_extension": ".py",
   "mimetype": "text/x-python",
   "name": "python",
   "nbconvert_exporter": "python",
   "pygments_lexer": "ipython3",
   "version": "3.6.2"
  }
 },
 "nbformat": 4,
 "nbformat_minor": 2
}
